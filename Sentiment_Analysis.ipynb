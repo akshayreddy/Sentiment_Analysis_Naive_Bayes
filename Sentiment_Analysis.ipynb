{
 "cells": [
  {
   "cell_type": "code",
   "execution_count": 76,
   "metadata": {
    "collapsed": false
   },
   "outputs": [],
   "source": [
    "import pandas as pd\n",
    "import numpy as np\n",
    "import nltk\n",
    "from sklearn import naive_bayes\n",
    "from nltk.corpus import stopwords\n",
    "from sklearn.feature_extraction.text import TfidfVectorizer\n",
    "from sklearn.cross_validation import train_test_split\n",
    "from sklearn.metrics import roc_auc_score"
   ]
  },
  {
   "cell_type": "code",
   "execution_count": 34,
   "metadata": {
    "collapsed": true
   },
   "outputs": [],
   "source": [
    "df = pd.read_csv(\"movie_reviews.txt\",sep = '\\t', names = ['polarity','review'])"
   ]
  },
  {
   "cell_type": "code",
   "execution_count": 89,
   "metadata": {
    "collapsed": false,
    "scrolled": true
   },
   "outputs": [
    {
     "data": {
      "text/html": [
       "<div>\n",
       "<table border=\"1\" class=\"dataframe\">\n",
       "  <thead>\n",
       "    <tr style=\"text-align: right;\">\n",
       "      <th></th>\n",
       "      <th>polarity</th>\n",
       "      <th>review</th>\n",
       "    </tr>\n",
       "  </thead>\n",
       "  <tbody>\n",
       "    <tr>\n",
       "      <th>3547</th>\n",
       "      <td>1</td>\n",
       "      <td>Corean cinema can be quite surprising for an o...</td>\n",
       "    </tr>\n",
       "    <tr>\n",
       "      <th>21010</th>\n",
       "      <td>0</td>\n",
       "      <td>The title should have been \"The walker\". That ...</td>\n",
       "    </tr>\n",
       "    <tr>\n",
       "      <th>10109</th>\n",
       "      <td>1</td>\n",
       "      <td>I had the pleasure of screening \"The Big Bad S...</td>\n",
       "    </tr>\n",
       "    <tr>\n",
       "      <th>17453</th>\n",
       "      <td>0</td>\n",
       "      <td>This was one of the worst movies I've ever see...</td>\n",
       "    </tr>\n",
       "    <tr>\n",
       "      <th>10795</th>\n",
       "      <td>1</td>\n",
       "      <td>I have been a fan of Pushing Daisies since the...</td>\n",
       "    </tr>\n",
       "    <tr>\n",
       "      <th>18593</th>\n",
       "      <td>0</td>\n",
       "      <td>No ,I'm not kidding. If they ever propose a mo...</td>\n",
       "    </tr>\n",
       "    <tr>\n",
       "      <th>22429</th>\n",
       "      <td>0</td>\n",
       "      <td>I'm only rating this film as a 3 out of pity b...</td>\n",
       "    </tr>\n",
       "    <tr>\n",
       "      <th>20916</th>\n",
       "      <td>0</td>\n",
       "      <td>Is this the same Kim Ki Duk who directed the p...</td>\n",
       "    </tr>\n",
       "    <tr>\n",
       "      <th>5919</th>\n",
       "      <td>1</td>\n",
       "      <td>After not having much luck at selling his scre...</td>\n",
       "    </tr>\n",
       "    <tr>\n",
       "      <th>8034</th>\n",
       "      <td>1</td>\n",
       "      <td>I had never heard of this film prior to seeing...</td>\n",
       "    </tr>\n",
       "  </tbody>\n",
       "</table>\n",
       "</div>"
      ],
      "text/plain": [
       "       polarity                                             review\n",
       "3547          1  Corean cinema can be quite surprising for an o...\n",
       "21010         0  The title should have been \"The walker\". That ...\n",
       "10109         1  I had the pleasure of screening \"The Big Bad S...\n",
       "17453         0  This was one of the worst movies I've ever see...\n",
       "10795         1  I have been a fan of Pushing Daisies since the...\n",
       "18593         0  No ,I'm not kidding. If they ever propose a mo...\n",
       "22429         0  I'm only rating this film as a 3 out of pity b...\n",
       "20916         0  Is this the same Kim Ki Duk who directed the p...\n",
       "5919          1  After not having much luck at selling his scre...\n",
       "8034          1  I had never heard of this film prior to seeing..."
      ]
     },
     "execution_count": 89,
     "metadata": {},
     "output_type": "execute_result"
    }
   ],
   "source": [
    "df.sample(10)"
   ]
  },
  {
   "cell_type": "code",
   "execution_count": 69,
   "metadata": {
    "collapsed": false
   },
   "outputs": [],
   "source": [
    "\n",
    "stopset = set(stopwords.words('english'))\n",
    "vectorizer = TfidfVectorizer(use_idf = True, lowercase = True, strip_accents= 'ascii', stop_words = stopset)\n"
   ]
  },
  {
   "cell_type": "code",
   "execution_count": 91,
   "metadata": {
    "collapsed": false
   },
   "outputs": [],
   "source": [
    "y = df.polarity  # dependent variable\n",
    "X = vectorizer.fit_transform(df.review) # independent variable \n",
    "X_train, X_test,y_train, y_test = train_test_split(X, y,test_size=0.80)"
   ]
  },
  {
   "cell_type": "code",
   "execution_count": 88,
   "metadata": {
    "collapsed": false
   },
   "outputs": [],
   "source": [
    "\n"
   ]
  },
  {
   "cell_type": "code",
   "execution_count": 39,
   "metadata": {
    "collapsed": false
   },
   "outputs": [
    {
     "name": "stdout",
     "output_type": "stream",
     "text": [
      "(25000,)\n",
      "(25000, 75710)\n"
     ]
    }
   ],
   "source": [
    "print y.shape\n",
    "print X.shape"
   ]
  },
  {
   "cell_type": "code",
   "execution_count": 40,
   "metadata": {
    "collapsed": true
   },
   "outputs": [],
   "source": [
    "X_train, X_test,y_train, y_test = train_test_split(X, y, random_state = 42)"
   ]
  },
  {
   "cell_type": "code",
   "execution_count": 94,
   "metadata": {
    "collapsed": false
   },
   "outputs": [
    {
     "data": {
      "text/plain": [
       "MultinomialNB(alpha=1.0, class_prior=None, fit_prior=True)"
      ]
     },
     "execution_count": 94,
     "metadata": {},
     "output_type": "execute_result"
    }
   ],
   "source": [
    "NB = naive_bayes.MultinomialNB()\n",
    "NB.fit(X_train,y_train)\n"
   ]
  },
  {
   "cell_type": "code",
   "execution_count": 95,
   "metadata": {
    "collapsed": false
   },
   "outputs": [
    {
     "data": {
      "text/plain": [
       "0.93024295388726241"
      ]
     },
     "execution_count": 95,
     "metadata": {},
     "output_type": "execute_result"
    }
   ],
   "source": [
    "roc_auc_score(y_test,NB.predict_proba(X_test)[:,1])"
   ]
  },
  {
   "cell_type": "code",
   "execution_count": 100,
   "metadata": {
    "collapsed": false
   },
   "outputs": [
    {
     "name": "stdout",
     "output_type": "stream",
     "text": [
      "10 Negative words :fawn, nunnery, vani, spiders, trawling, localized, disobeying, yougoslavia, canet, acurately\n",
      "10 Positive words :time, well, see, story, great, like, good, one, film, movie\n"
     ]
    }
   ],
   "source": [
    "\n",
    "words_polarity = []\n",
    "\n",
    "for word in vectorizer.vocabulary_:\n",
    "    index =  vectorizer.vocabulary_[word]\n",
    "    words_polarity.append((word, NB.coef_[0][index]))\n",
    "\n",
    "words_polarity = sorted(words_polarity, key=lambda x: x[1])\n",
    "\n",
    "\n",
    "print(\"10 Negative words :\" + \", \".join([str(x[0]) for x in words_polarity[:10]]))\n",
    "\n",
    "print(\"10 Positive words :\" + \", \".join([str(x[0]) for x in words_polarity[-10:]]))\n"
   ]
  },
  {
   "cell_type": "code",
   "execution_count": 99,
   "metadata": {
    "collapsed": false
   },
   "outputs": [
    {
     "name": "stdout",
     "output_type": "stream",
     "text": [
      "I liked the movie 1\n",
      "I hate this character 0\n",
      "The plot of the movie was interesting 0\n",
      "It has been and amazing depiction of charaters 1\n",
      "Movie was boring 0\n"
     ]
    }
   ],
   "source": [
    "for word in [[\"I liked the movie\"],[\"I hate this character\"],[\"The plot of the movie was interesting\"],[\"It has been and amazing depiction of charaters\"],[\"Movie was boring\"]]:\n",
    "    review_word = np.array(word)\n",
    "    review_vector = vectorizer.transform(review_word)\n",
    "    print(str(word[0]) + \" \" + str(NB.predict(review_vector)[0]))\n",
    "    \n",
    "    "
   ]
  }
 ],
 "metadata": {
  "kernelspec": {
   "display_name": "Python 2",
   "language": "python",
   "name": "python2"
  },
  "language_info": {
   "codemirror_mode": {
    "name": "ipython",
    "version": 2
   },
   "file_extension": ".py",
   "mimetype": "text/x-python",
   "name": "python",
   "nbconvert_exporter": "python",
   "pygments_lexer": "ipython2",
   "version": "2.7.13"
  }
 },
 "nbformat": 4,
 "nbformat_minor": 2
}
